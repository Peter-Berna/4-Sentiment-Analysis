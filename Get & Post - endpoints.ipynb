{
 "cells": [
  {
   "cell_type": "markdown",
   "id": "3b89b9ad",
   "metadata": {},
   "source": [
    "# GET & POST ENDPOINTS"
   ]
  },
  {
   "cell_type": "code",
   "execution_count": 1,
   "id": "74fc4e59",
   "metadata": {},
   "outputs": [],
   "source": [
    "import requests"
   ]
  },
  {
   "cell_type": "markdown",
   "id": "66ee3467",
   "metadata": {},
   "source": [
    "## GET "
   ]
  },
  {
   "cell_type": "markdown",
   "id": "0fd652b3",
   "metadata": {},
   "source": [
    "- get everything\n",
    "    (add param limit, order by year) PARAM --> limit queries, orden\n",
    "- get branches' names\n",
    "- get everything from branch\n",
    "    (add param limit, order by year/rating) PARAM --> limit queries, orden\n",
    "- get total reviews\n",
    "- get all reviewer_location \n",
    "- get Nº reviews from one country\n",
    "- get all review texts from one country\n",
    "- get summary stats: total visitors/disney,avg. rating each disney, visitors/month, visitors/country_origin, \n",
    "- get avg. rating/year/branch\n",
    "\n",
    "- SA avg. score per Branch / per country of origin / per year (from 2010 - 2019)/ per month \n",
    "       --> defensive code if country not in data, if year not in data\n",
    "- SA 1 random (show text and polarity score)\n",
    "\n"
   ]
  },
  {
   "cell_type": "markdown",
   "id": "2c103f34",
   "metadata": {},
   "source": [
    "## GET with params "
   ]
  },
  {
   "cell_type": "code",
   "execution_count": null,
   "id": "8ddcae62",
   "metadata": {},
   "outputs": [],
   "source": []
  },
  {
   "cell_type": "markdown",
   "id": "816b35a6",
   "metadata": {},
   "source": [
    "## POST "
   ]
  },
  {
   "cell_type": "code",
   "execution_count": 7,
   "id": "7ca37b31",
   "metadata": {},
   "outputs": [],
   "source": [
    "data ={\"id\":\"840362135\",\n",
    "       \"rating\": 2,\n",
    "       \"year_date\": \"2015-09\",\n",
    "       \"review\": \"Goofy smelled like poop and Mickey was rude to my son\", \n",
    "       \"Branch\": \"Disneyland_Paris\",\n",
    "       \"Year\": 2015,\n",
    "       \"Month\": \"Sep\"\n",
    "      }"
   ]
  },
  {
   "cell_type": "code",
   "execution_count": 8,
   "id": "2b6ecfba",
   "metadata": {},
   "outputs": [],
   "source": [
    "url = \"http://127.0.0.1:8000/post\""
   ]
  },
  {
   "cell_type": "code",
   "execution_count": 9,
   "id": "d4b66db2",
   "metadata": {},
   "outputs": [
    {
     "data": {
      "text/plain": [
       "<Response [500]>"
      ]
     },
     "execution_count": 9,
     "metadata": {},
     "output_type": "execute_result"
    }
   ],
   "source": [
    "requests.post(url, data=data)"
   ]
  },
  {
   "cell_type": "code",
   "execution_count": null,
   "id": "dcc52c11",
   "metadata": {},
   "outputs": [],
   "source": []
  }
 ],
 "metadata": {
  "kernelspec": {
   "display_name": "Python 3 (ipykernel)",
   "language": "python",
   "name": "python3"
  },
  "language_info": {
   "codemirror_mode": {
    "name": "ipython",
    "version": 3
   },
   "file_extension": ".py",
   "mimetype": "text/x-python",
   "name": "python",
   "nbconvert_exporter": "python",
   "pygments_lexer": "ipython3",
   "version": "3.9.12"
  },
  "toc": {
   "base_numbering": 1,
   "nav_menu": {},
   "number_sections": true,
   "sideBar": true,
   "skip_h1_title": false,
   "title_cell": "Table of Contents",
   "title_sidebar": "Contents",
   "toc_cell": false,
   "toc_position": {},
   "toc_section_display": true,
   "toc_window_display": false
  }
 },
 "nbformat": 4,
 "nbformat_minor": 5
}
