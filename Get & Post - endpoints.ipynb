{
 "cells": [
  {
   "cell_type": "markdown",
   "id": "4312556e",
   "metadata": {},
   "source": [
    "# GET & POST ENDPOINTS"
   ]
  },
  {
   "cell_type": "markdown",
   "id": "bdfeac1c",
   "metadata": {},
   "source": [
    "- get everything\n",
    "- get branches' names\n",
    "- get everything from branch\n",
    "- get total reviews\n",
    "- get all reviewer_location \n",
    "- get Nº reviews from one country\n",
    "- get all review texts from one country\n",
    "- get summary stats: total visitors/disney,avg. rating each disney, visitors/month, visitors/country_origin, \n",
    "\n",
    "- time series: evo rating (avg. rating/year) absolute / each disney\n",
    "\n",
    "- SA avg. score per Disney / per country / per month / per year\n",
    "\n",
    "- (Get plots)"
   ]
  }
 ],
 "metadata": {
  "kernelspec": {
   "display_name": "Python 3 (ipykernel)",
   "language": "python",
   "name": "python3"
  },
  "language_info": {
   "codemirror_mode": {
    "name": "ipython",
    "version": 3
   },
   "file_extension": ".py",
   "mimetype": "text/x-python",
   "name": "python",
   "nbconvert_exporter": "python",
   "pygments_lexer": "ipython3",
   "version": "3.9.12"
  },
  "toc": {
   "base_numbering": 1,
   "nav_menu": {},
   "number_sections": true,
   "sideBar": true,
   "skip_h1_title": false,
   "title_cell": "Table of Contents",
   "title_sidebar": "Contents",
   "toc_cell": false,
   "toc_position": {},
   "toc_section_display": true,
   "toc_window_display": false
  }
 },
 "nbformat": 4,
 "nbformat_minor": 5
}
