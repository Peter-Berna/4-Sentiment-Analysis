{
 "cells": [
  {
   "cell_type": "markdown",
   "id": "4fa03907",
   "metadata": {},
   "source": [
    "# GET & POST ENDPOINTS"
   ]
  },
  {
   "cell_type": "markdown",
   "id": "315a8720",
   "metadata": {},
   "source": [
    "## GET "
   ]
  },
  {
   "cell_type": "markdown",
   "id": "ed74b237",
   "metadata": {},
   "source": [
    "- get everything\n",
    "    (add param limit, order by year) PARAM --> limit queries, orden\n",
    "- get branches' names\n",
    "- get everything from branch\n",
    "    (add param limit, order by year/rating) PARAM --> limit queries, orden\n",
    "- get total reviews\n",
    "- get all reviewer_location \n",
    "- get Nº reviews from one country\n",
    "- get all review texts from one country\n",
    "- get summary stats: total visitors/disney,avg. rating each disney, visitors/month, visitors/country_origin, \n",
    "- get avg. rating/year/branch\n",
    "\n",
    "- SA avg. score per Branch / per country of origin / per year (from 2010 - 2019)/ per month \n",
    "       --> defensive code if country not in data, if year not in data\n",
    "- SA 1 random (show text and polarity score)\n",
    "\n"
   ]
  },
  {
   "cell_type": "markdown",
   "id": "3d53bd40",
   "metadata": {},
   "source": [
    "## POST "
   ]
  },
  {
   "cell_type": "markdown",
   "id": "4d35b6cd",
   "metadata": {},
   "source": [
    " - post new review "
   ]
  }
 ],
 "metadata": {
  "kernelspec": {
   "display_name": "Python 3 (ipykernel)",
   "language": "python",
   "name": "python3"
  },
  "language_info": {
   "codemirror_mode": {
    "name": "ipython",
    "version": 3
   },
   "file_extension": ".py",
   "mimetype": "text/x-python",
   "name": "python",
   "nbconvert_exporter": "python",
   "pygments_lexer": "ipython3",
   "version": "3.9.12"
  },
  "toc": {
   "base_numbering": 1,
   "nav_menu": {},
   "number_sections": true,
   "sideBar": true,
   "skip_h1_title": false,
   "title_cell": "Table of Contents",
   "title_sidebar": "Contents",
   "toc_cell": false,
   "toc_position": {},
   "toc_section_display": true,
   "toc_window_display": false
  }
 },
 "nbformat": 4,
 "nbformat_minor": 5
}
